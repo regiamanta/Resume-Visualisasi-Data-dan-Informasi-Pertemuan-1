{
 "cells": [
  {
   "cell_type": "markdown",
   "metadata": {},
   "source": [
    "Making Data Visulization More Eficient and Effective : A Survey\n",
    "\n",
    "Cara meningkatkan efisiensi dan efektivitas dalam visualisasi data, yang telah menjadi alat penting dalam dunia bisnis modern yang didorong oleh data. Di tengah semakin kompleksnya data yang ditangani oleh berbagai organisasi, kebutuhan akan visualisasi data yang cepat, akurat, dan skalabel menjadi sangat mendesak. Makalah ini mengidentifikasi dan mengulas berbagai teknik dan pendekatan yang telah dikembangkan untuk memenuhi kebutuhan ini, dengan fokus pada tiga area utama: spesifikasi visualisasi, pendekatan efisien untuk visualisasi data, dan rekomendasi visualisasi data.\n",
    "\n",
    "Spesifikasi Visualisasi: Spesifikasi visualisasi mencakup bagaimana pengguna dapat menentukan kebutuhan mereka untuk menghasilkan visualisasi yang sesuai. Bahasa visualisasi data, seperti D3, Vega-Lite, VizQL, dan ggplot2, dibahas secara mendalam, baik dari sudut pandang bahasa tingkat rendah yang memberikan kontrol penuh terhadap elemen visual, maupun bahasa tingkat tinggi yang menyederhanakan proses pembuatan visualisasi dengan menyediakan default yang masuk akal dan pengaturan yang lebih sederhana. Selain itu, alat berbasis antarmuka pengguna grafis (GUI) seperti Tableau, Microsoft Power BI, dan Google Sheets memungkinkan pengguna untuk membuat visualisasi secara interaktif tanpa memerlukan pengetahuan pemrograman. Dalam konteks ini, makalah ini membahas bagaimana berbagai spesifikasi visualisasi ini dapat disusun untuk mendukung proses visualisasi data yang lebih efisien dan user-friendly.\n",
    "\n",
    "Pendekatan Efisien untuk Visualisasi Data: Mengingat volume data yang sangat besar dan kebutuhan akan visualisasi yang responsif, makalah ini membahas berbagai pendekatan yang telah diadopsi untuk memastikan bahwa visualisasi data dapat dilakukan secara efisien. Salah satu pendekatan utama adalah penerjemahan kueri visualisasi menjadi kueri SQL, yang memungkinkan penggunaan mesin basis data yang telah matang dan kuat untuk memproses data visualisasi dengan cepat. Selain itu, integrasi sistem visualisasi dengan basis data, seperti yang dilakukan oleh sistem Hyper DB yang mendukung Tableau, dan teknik komputasi paralel yang digunakan dalam sistem seperti imMens dan SeeDB, dibahas sebagai cara untuk mempercepat proses eksplorasi visualisasi data. Teknik lain yang diulas termasuk penggunaan penyimpanan berbasis kolom untuk meningkatkan kinerja akses data, serta prediksi dan prefetching data yang memungkinkan sistem visualisasi untuk memuat data yang mungkin dibutuhkan pengguna sebelum permintaan eksplisit dilakukan, sehingga mempercepat interaksi pengguna.\n",
    "\n",
    "Rekomendasi Visualisasi Data: Mengingat kompleksitas dalam menentukan visualisasi yang optimal, terutama ketika pengguna tidak sepenuhnya mengetahui apa yang mereka butuhkan, makalah ini membahas pentingnya sistem rekomendasi visualisasi. Sistem rekomendasi ini dapat secara otomatis melengkapi spesifikasi visualisasi yang tidak lengkap atau menyarankan visualisasi yang lebih menarik berdasarkan visualisasi yang telah ada. Beberapa pendekatan yang diulas termasuk penggunaan aturan berbasis statistik dan persepsi manusia untuk menentukan visualisasi yang paling efektif, serta penerapan teknik pembelajaran mesin untuk mempelajari preferensi pengguna dan memperbaiki rekomendasi seiring waktu. Sistem seperti DeepEye, Voyager, dan Draco dibahas secara rinci, termasuk bagaimana mereka memanfaatkan teknik pembelajaran berbasis contoh dan pembelajaran peringkat untuk meningkatkan kualitas rekomendasi visualisasi.\n",
    "\n",
    "Untuk menghasilkan visualisasi yang efisien, terutama ketika berurusan dengan dataset besar, makalah ini menyoroti beberapa pendekatan yang telah terbukti efektif. Salah satu pendekatan utama adalah Penerjemahan Kueri Visualisasi menjadi Kueri SQL, yang memungkinkan sistem memanfaatkan mesin basis data yang telah matang seperti RDBMS untuk memproses data dengan cepat dan pada skala besar.\n",
    "\n",
    "Makalah ini juga membahas integrasi antara sistem visualisasi dan sistem basis data, contohnya seperti yang dilakukan oleh Hyper DB yang mendukung Tableau. Integrasi ini memungkinkan pengolahan data yang lebih efisien dan responsif terhadap permintaan pengguna, yang sangat penting dalam skenario big data. Selain itu, teknik Penyimpanan Berbasis Kolom diterapkan untuk mengoptimalkan akses data, karena pengguna biasanya hanya tertarik pada beberapa kolom tertentu dalam dataset besar, sehingga pendekatan ini dapat mengurangi latensi secara signifikan.\n",
    "\n",
    "Komputasi Paralel juga merupakan teknik penting yang dibahas dalam makalah ini. Dengan memanfaatkan kemampuan komputasi paralel, sistem dapat memproses banyak kueri atau bagian dari kueri secara bersamaan, yang mempercepat waktu respons visualisasi secara keseluruhan. Selain itu, Prediksi dan Prefetching Data adalah pendekatan lain yang diulas, di mana sistem berusaha memprediksi langkah selanjutnya yang mungkin diambil oleh pengguna dalam eksplorasi data mereka dan memuat data yang mungkin dibutuhkan sebelumnya, sehingga mempercepat interaksi pengguna.\n",
    "\n",
    "Dalam rangka lebih meningkatkan efisiensi, makalah ini juga membahas Pendekatan Visualisasi Data yang Tepat dan Perkiraan. Di sini, teknik seperti Approximate Query Processing (AQP) digunakan untuk menghasilkan hasil visualisasi yang mendekati akurat dalam waktu singkat, yang sangat bermanfaat dalam skenario di mana kecepatan lebih penting daripada akurasi absolut. Progressive Data Visualization juga dibahas, di mana visualisasi diperbarui secara bertahap saat lebih banyak data diproses, memungkinkan pengguna untuk mendapatkan wawasan awal sebelum visualisasi final selesai.\n",
    "\n",
    "eksplorasi sistem rekomendasi visualisasi, yang membantu pengguna dalam memilih representasi data yang paling tepat. Ketika pengguna tidak memiliki spesifikasi yang lengkap atau bahkan tidak tahu bagaimana data mereka sebaiknya divisualisasikan, sistem rekomendasi ini dapat secara otomatis memberikan saran visualisasi yang relevan. Makalah ini membedakan antara pendekatan berbasis aturan dan pembelajaran mesin untuk rekomendasi visualisasi.\n",
    "\n",
    "Pendekatan Berbasis Aturan mencakup penggunaan aturan-aturan yang telah ditetapkan berdasarkan prinsip-prinsip persepsi manusia dan statistik untuk memilih visualisasi yang paling efektif. Sistem seperti Voyager dan DeepEye menggunakan pendekatan ini untuk menilai dan memberi peringkat visualisasi berdasarkan kombinasi data, tipe visualisasi, dan preferensi visual manusia.\n",
    "\n",
    "Pendekatan Pembelajaran Mesin, di sisi lain, semakin banyak digunakan dalam sistem rekomendasi modern. Dengan mengumpulkan data pelatihan dari preferensi pengguna dan visualisasi sebelumnya, sistem seperti Draco dan versi lebih lanjut dari DeepEye menggunakan model pembelajaran peringkat untuk secara otomatis menentukan visualisasi mana yang paling mungkin menarik atau berguna bagi pengguna. Pendekatan ini memungkinkan sistem untuk terus belajar dan menyesuaikan rekomendasinya berdasarkan data nyata dan umpan balik pengguna.\n",
    "\n",
    "Secara keseluruhan, makalah ini tidak hanya memberikan tinjauan tentang teknik-teknik terkini dalam visualisasi data, tetapi juga menyusun strategi dan panduan untuk mengatasi tantangan yang dihadapi oleh praktisi dalam menciptakan visualisasi data yang efektif. Dengan mencakup spesifikasi visualisasi, pendekatan pemrosesan data yang efisien, dan sistem rekomendasi visualisasi, makalah ini menawarkan pandangan holistik yang dapat digunakan sebagai landasan untuk penelitian lebih lanjut dan pengembangan teknologi visualisasi data yang lebih canggih di masa depan."
   ]
  }
 ],
 "metadata": {
  "language_info": {
   "name": "python"
  }
 },
 "nbformat": 4,
 "nbformat_minor": 2
}
